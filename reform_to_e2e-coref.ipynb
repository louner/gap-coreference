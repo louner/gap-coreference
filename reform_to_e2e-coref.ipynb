{
 "cells": [
  {
   "cell_type": "code",
   "execution_count": 41,
   "metadata": {},
   "outputs": [],
   "source": [
    "import pandas as pd\n",
    "from pdb import set_trace"
   ]
  },
  {
   "cell_type": "code",
   "execution_count": 58,
   "metadata": {},
   "outputs": [
    {
     "data": {
      "text/plain": [
       "Index(['ID', 'Text', 'Pronoun', 'Pronoun-offset', 'A', 'A-offset', 'A-coref',\n",
       "       'B', 'B-offset', 'B-coref', 'URL'],\n",
       "      dtype='object')"
      ]
     },
     "execution_count": 58,
     "metadata": {},
     "output_type": "execute_result"
    }
   ],
   "source": [
    "df = pd.read_csv('gap-development.tsv', sep='\\t')\n",
    "df.columns"
   ]
  },
  {
   "cell_type": "code",
   "execution_count": 59,
   "metadata": {},
   "outputs": [
    {
     "data": {
      "text/html": [
       "<div>\n",
       "<style scoped>\n",
       "    .dataframe tbody tr th:only-of-type {\n",
       "        vertical-align: middle;\n",
       "    }\n",
       "\n",
       "    .dataframe tbody tr th {\n",
       "        vertical-align: top;\n",
       "    }\n",
       "\n",
       "    .dataframe thead th {\n",
       "        text-align: right;\n",
       "    }\n",
       "</style>\n",
       "<table border=\"1\" class=\"dataframe\">\n",
       "  <thead>\n",
       "    <tr style=\"text-align: right;\">\n",
       "      <th></th>\n",
       "      <th>ID</th>\n",
       "      <th>Text</th>\n",
       "      <th>Pronoun</th>\n",
       "      <th>Pronoun-offset</th>\n",
       "      <th>A</th>\n",
       "      <th>A-offset</th>\n",
       "      <th>A-coref</th>\n",
       "      <th>B</th>\n",
       "      <th>B-offset</th>\n",
       "      <th>B-coref</th>\n",
       "      <th>URL</th>\n",
       "    </tr>\n",
       "  </thead>\n",
       "  <tbody>\n",
       "    <tr>\n",
       "      <th>0</th>\n",
       "      <td>development-1</td>\n",
       "      <td>Zoe Telford -- played the police officer girlf...</td>\n",
       "      <td>her</td>\n",
       "      <td>274</td>\n",
       "      <td>Cheryl Cassidy</td>\n",
       "      <td>191</td>\n",
       "      <td>True</td>\n",
       "      <td>Pauline</td>\n",
       "      <td>207</td>\n",
       "      <td>False</td>\n",
       "      <td>http://en.wikipedia.org/wiki/List_of_Teachers_...</td>\n",
       "    </tr>\n",
       "    <tr>\n",
       "      <th>1</th>\n",
       "      <td>development-2</td>\n",
       "      <td>He grew up in Evanston, Illinois the second ol...</td>\n",
       "      <td>His</td>\n",
       "      <td>284</td>\n",
       "      <td>MacKenzie</td>\n",
       "      <td>228</td>\n",
       "      <td>True</td>\n",
       "      <td>Bernard Leach</td>\n",
       "      <td>251</td>\n",
       "      <td>False</td>\n",
       "      <td>http://en.wikipedia.org/wiki/Warren_MacKenzie</td>\n",
       "    </tr>\n",
       "    <tr>\n",
       "      <th>2</th>\n",
       "      <td>development-3</td>\n",
       "      <td>He had been reelected to Congress, but resigne...</td>\n",
       "      <td>his</td>\n",
       "      <td>265</td>\n",
       "      <td>Angeloz</td>\n",
       "      <td>173</td>\n",
       "      <td>False</td>\n",
       "      <td>De la Sota</td>\n",
       "      <td>246</td>\n",
       "      <td>True</td>\n",
       "      <td>http://en.wikipedia.org/wiki/Jos%C3%A9_Manuel_...</td>\n",
       "    </tr>\n",
       "    <tr>\n",
       "      <th>3</th>\n",
       "      <td>development-4</td>\n",
       "      <td>The current members of Crime have also perform...</td>\n",
       "      <td>his</td>\n",
       "      <td>321</td>\n",
       "      <td>Hell</td>\n",
       "      <td>174</td>\n",
       "      <td>False</td>\n",
       "      <td>Henry Rosenthal</td>\n",
       "      <td>336</td>\n",
       "      <td>True</td>\n",
       "      <td>http://en.wikipedia.org/wiki/Crime_(band)</td>\n",
       "    </tr>\n",
       "    <tr>\n",
       "      <th>4</th>\n",
       "      <td>development-5</td>\n",
       "      <td>Her Santa Fe Opera debut in 2005 was as Nuria ...</td>\n",
       "      <td>She</td>\n",
       "      <td>437</td>\n",
       "      <td>Kitty Oppenheimer</td>\n",
       "      <td>219</td>\n",
       "      <td>False</td>\n",
       "      <td>Rivera</td>\n",
       "      <td>294</td>\n",
       "      <td>True</td>\n",
       "      <td>http://en.wikipedia.org/wiki/Jessica_Rivera</td>\n",
       "    </tr>\n",
       "  </tbody>\n",
       "</table>\n",
       "</div>"
      ],
      "text/plain": [
       "              ID                                               Text Pronoun  \\\n",
       "0  development-1  Zoe Telford -- played the police officer girlf...     her   \n",
       "1  development-2  He grew up in Evanston, Illinois the second ol...     His   \n",
       "2  development-3  He had been reelected to Congress, but resigne...     his   \n",
       "3  development-4  The current members of Crime have also perform...     his   \n",
       "4  development-5  Her Santa Fe Opera debut in 2005 was as Nuria ...     She   \n",
       "\n",
       "   Pronoun-offset                  A  A-offset  A-coref                B  \\\n",
       "0             274     Cheryl Cassidy       191     True          Pauline   \n",
       "1             284          MacKenzie       228     True    Bernard Leach   \n",
       "2             265            Angeloz       173    False       De la Sota   \n",
       "3             321               Hell       174    False  Henry Rosenthal   \n",
       "4             437  Kitty Oppenheimer       219    False           Rivera   \n",
       "\n",
       "   B-offset  B-coref                                                URL  \n",
       "0       207    False  http://en.wikipedia.org/wiki/List_of_Teachers_...  \n",
       "1       251    False      http://en.wikipedia.org/wiki/Warren_MacKenzie  \n",
       "2       246     True  http://en.wikipedia.org/wiki/Jos%C3%A9_Manuel_...  \n",
       "3       336     True          http://en.wikipedia.org/wiki/Crime_(band)  \n",
       "4       294     True        http://en.wikipedia.org/wiki/Jessica_Rivera  "
      ]
     },
     "execution_count": 59,
     "metadata": {},
     "output_type": "execute_result"
    }
   ],
   "source": [
    "df.head()"
   ]
  },
  {
   "cell_type": "code",
   "execution_count": 44,
   "metadata": {},
   "outputs": [
    {
     "name": "stderr",
     "output_type": "stream",
     "text": [
      "[nltk_data] Downloading package punkt to /home/allen_kuo/nltk_data...\n",
      "[nltk_data]   Package punkt is already up-to-date!\n"
     ]
    }
   ],
   "source": [
    "import nltk\n",
    "nltk.download(\"punkt\")\n",
    "from nltk.tokenize import sent_tokenize, word_tokenize\n",
    "\n",
    "def preprocess(text):\n",
    "    raw_sentences = sent_tokenize(text)\n",
    "    sentences = [word_tokenize(s) for s in raw_sentences]\n",
    "    speakers = [[\"spk%d\"%(i) for _ in sentence] for i,sentence in enumerate(sentences)]\n",
    "    return sentences, speakers"
   ]
  },
  {
   "cell_type": "code",
   "execution_count": 61,
   "metadata": {
    "scrolled": true
   },
   "outputs": [],
   "source": [
    "placeholder = 'AAAAAAAAA'\n",
    "def create_mention_index(x):\n",
    "    try:\n",
    "        text, A, offset = x\n",
    "\n",
    "        A_tok_count = len([_ for _ in word_tokenize(A)])\n",
    "        if A_tok_count == 1:\n",
    "            A_tok_count = 0\n",
    "\n",
    "        _text = [c for c in text]\n",
    "        _text[offset:offset+len(A)] = placeholder\n",
    "        _text = ''.join(_text)\n",
    "        _text = [word for sentence in sent_tokenize(_text) for word in word_tokenize(sentence)]\n",
    "        start = _text.index(placeholder)\n",
    "        return (start, start+A_tok_count)\n",
    "    except:\n",
    "        return -1\n",
    "\n",
    "df['A_mention'] = df[['Text', 'A', 'A-offset']].apply(create_mention_index, axis=1)\n",
    "df['B_mention'] = df[['Text', 'B', 'B-offset']].apply(create_mention_index, axis=1)\n",
    "df['Pronoun_mention'] = df[['Text', 'Pronoun', 'Pronoun-offset']].apply(create_mention_index, axis=1)\n",
    "df = df[(df['Pronoun_mention'] != -1) & (df['A_mention'] != -1) & (df['B_mention'] != -1)]"
   ]
  },
  {
   "cell_type": "code",
   "execution_count": 69,
   "metadata": {},
   "outputs": [
    {
     "name": "stderr",
     "output_type": "stream",
     "text": [
      "/home/allen_kuo/anaconda2/envs/pydata_pytorch_tutorial/lib/python3.6/site-packages/ipykernel_launcher.py:9: SettingWithCopyWarning: \n",
      "A value is trying to be set on a copy of a slice from a DataFrame.\n",
      "Try using .loc[row_indexer,col_indexer] = value instead\n",
      "\n",
      "See the caveats in the documentation: http://pandas.pydata.org/pandas-docs/stable/indexing.html#indexing-view-versus-copy\n",
      "  if __name__ == '__main__':\n"
     ]
    }
   ],
   "source": [
    "def create_cluster(x):\n",
    "    A_coref, A_mention, B_coref, B_mention, Pronoun_mention = x\n",
    "    true_mention = None\n",
    "    if A_coref:\n",
    "         true_mention = A_mention\n",
    "    else:\n",
    "        true_mention = B_mention\n",
    "    return (true_mention, Pronoun_mention)\n",
    "df['clusters'] = df[['A-coref', 'A_mention', 'B-coref', 'B_mention', 'Pronoun_mention']].apply(create_cluster, axis=1)"
   ]
  },
  {
   "cell_type": "code",
   "execution_count": 71,
   "metadata": {},
   "outputs": [
    {
     "data": {
      "text/plain": [
       "0    ((39, 41), (57, 57))\n",
       "1    ((46, 46), (56, 56))\n",
       "2    ((49, 52), (54, 54))\n",
       "3    ((68, 70), (64, 64))\n",
       "4    ((55, 55), (82, 82))\n",
       "Name: clusters, dtype: object"
      ]
     },
     "execution_count": 71,
     "metadata": {},
     "output_type": "execute_result"
    }
   ],
   "source": [
    "df['clusters'].head()"
   ]
  },
  {
   "cell_type": "code",
   "execution_count": 72,
   "metadata": {},
   "outputs": [
    {
     "data": {
      "text/html": [
       "<div>\n",
       "<style scoped>\n",
       "    .dataframe tbody tr th:only-of-type {\n",
       "        vertical-align: middle;\n",
       "    }\n",
       "\n",
       "    .dataframe tbody tr th {\n",
       "        vertical-align: top;\n",
       "    }\n",
       "\n",
       "    .dataframe thead th {\n",
       "        text-align: right;\n",
       "    }\n",
       "</style>\n",
       "<table border=\"1\" class=\"dataframe\">\n",
       "  <thead>\n",
       "    <tr style=\"text-align: right;\">\n",
       "      <th></th>\n",
       "      <th>doc_key</th>\n",
       "      <th>sentences</th>\n",
       "      <th>speakers</th>\n",
       "      <th>clusters</th>\n",
       "    </tr>\n",
       "  </thead>\n",
       "  <tbody>\n",
       "    <tr>\n",
       "      <th>0</th>\n",
       "      <td>nw</td>\n",
       "      <td>[[Zoe, Telford, --, played, the, police, offic...</td>\n",
       "      <td>[[spk0, spk0, spk0, spk0, spk0, spk0, spk0, sp...</td>\n",
       "      <td>((39, 41), (57, 57))</td>\n",
       "    </tr>\n",
       "    <tr>\n",
       "      <th>1</th>\n",
       "      <td>nw</td>\n",
       "      <td>[[He, grew, up, in, Evanston, ,, Illinois, the...</td>\n",
       "      <td>[[spk0, spk0, spk0, spk0, spk0, spk0, spk0, sp...</td>\n",
       "      <td>((46, 46), (56, 56))</td>\n",
       "    </tr>\n",
       "    <tr>\n",
       "      <th>2</th>\n",
       "      <td>nw</td>\n",
       "      <td>[[He, had, been, reelected, to, Congress, ,, b...</td>\n",
       "      <td>[[spk0, spk0, spk0, spk0, spk0, spk0, spk0, sp...</td>\n",
       "      <td>((49, 52), (54, 54))</td>\n",
       "    </tr>\n",
       "    <tr>\n",
       "      <th>3</th>\n",
       "      <td>nw</td>\n",
       "      <td>[[The, current, members, of, Crime, have, also...</td>\n",
       "      <td>[[spk0, spk0, spk0, spk0, spk0, spk0, spk0, sp...</td>\n",
       "      <td>((68, 70), (64, 64))</td>\n",
       "    </tr>\n",
       "    <tr>\n",
       "      <th>4</th>\n",
       "      <td>nw</td>\n",
       "      <td>[[Her, Santa, Fe, Opera, debut, in, 2005, was,...</td>\n",
       "      <td>[[spk0, spk0, spk0, spk0, spk0, spk0, spk0, sp...</td>\n",
       "      <td>((55, 55), (82, 82))</td>\n",
       "    </tr>\n",
       "  </tbody>\n",
       "</table>\n",
       "</div>"
      ],
      "text/plain": [
       "  doc_key                                          sentences  \\\n",
       "0      nw  [[Zoe, Telford, --, played, the, police, offic...   \n",
       "1      nw  [[He, grew, up, in, Evanston, ,, Illinois, the...   \n",
       "2      nw  [[He, had, been, reelected, to, Congress, ,, b...   \n",
       "3      nw  [[The, current, members, of, Crime, have, also...   \n",
       "4      nw  [[Her, Santa, Fe, Opera, debut, in, 2005, was,...   \n",
       "\n",
       "                                            speakers              clusters  \n",
       "0  [[spk0, spk0, spk0, spk0, spk0, spk0, spk0, sp...  ((39, 41), (57, 57))  \n",
       "1  [[spk0, spk0, spk0, spk0, spk0, spk0, spk0, sp...  ((46, 46), (56, 56))  \n",
       "2  [[spk0, spk0, spk0, spk0, spk0, spk0, spk0, sp...  ((49, 52), (54, 54))  \n",
       "3  [[spk0, spk0, spk0, spk0, spk0, spk0, spk0, sp...  ((68, 70), (64, 64))  \n",
       "4  [[spk0, spk0, spk0, spk0, spk0, spk0, spk0, sp...  ((55, 55), (82, 82))  "
      ]
     },
     "execution_count": 72,
     "metadata": {},
     "output_type": "execute_result"
    }
   ],
   "source": [
    "reformed = pd.DataFrame()\n",
    "reformed['tmp'] = df['Text'].apply(preprocess)\n",
    "reformed['doc_key'] = 'nw'\n",
    "reformed['sentences'] = reformed['tmp'].apply(lambda x: x[0])\n",
    "reformed['speakers'] = reformed['tmp'].apply(lambda x: x[1])\n",
    "reformed['clusters'] = df['clusters']\n",
    "del reformed['tmp']\n",
    "reformed.head()"
   ]
  },
  {
   "cell_type": "code",
   "execution_count": 74,
   "metadata": {},
   "outputs": [
    {
     "data": {
      "text/plain": [
       "array(['nw',\n",
       "       list([['Zoe', 'Telford', '--', 'played', 'the', 'police', 'officer', 'girlfriend', 'of', 'Simon', ',', 'Maggie', '.'], ['Dumped', 'by', 'Simon', 'in', 'the', 'final', 'episode', 'of', 'series', '1', ',', 'after', 'he', 'slept', 'with', 'Jenny', ',', 'and', 'is', 'not', 'seen', 'again', '.'], ['Phoebe', 'Thomas', 'played', 'Cheryl', 'Cassidy', ',', 'Pauline', \"'s\", 'friend', 'and', 'also', 'a', 'year', '11', 'pupil', 'in', 'Simon', \"'s\", 'class', '.'], ['Dumped', 'her', 'boyfriend', 'following', 'Simon', \"'s\", 'advice', 'after', 'he', 'would', \"n't\", 'have', 'sex', 'with', 'her', 'but', 'later', 'realised', 'this', 'was', 'due', 'to', 'him', 'catching', 'crabs', 'off', 'her', 'friend', 'Pauline', '.']]),\n",
       "       list([['spk0', 'spk0', 'spk0', 'spk0', 'spk0', 'spk0', 'spk0', 'spk0', 'spk0', 'spk0', 'spk0', 'spk0', 'spk0'], ['spk1', 'spk1', 'spk1', 'spk1', 'spk1', 'spk1', 'spk1', 'spk1', 'spk1', 'spk1', 'spk1', 'spk1', 'spk1', 'spk1', 'spk1', 'spk1', 'spk1', 'spk1', 'spk1', 'spk1', 'spk1', 'spk1', 'spk1'], ['spk2', 'spk2', 'spk2', 'spk2', 'spk2', 'spk2', 'spk2', 'spk2', 'spk2', 'spk2', 'spk2', 'spk2', 'spk2', 'spk2', 'spk2', 'spk2', 'spk2', 'spk2', 'spk2', 'spk2'], ['spk3', 'spk3', 'spk3', 'spk3', 'spk3', 'spk3', 'spk3', 'spk3', 'spk3', 'spk3', 'spk3', 'spk3', 'spk3', 'spk3', 'spk3', 'spk3', 'spk3', 'spk3', 'spk3', 'spk3', 'spk3', 'spk3', 'spk3', 'spk3', 'spk3', 'spk3', 'spk3', 'spk3', 'spk3', 'spk3']]),\n",
       "       ((39, 41), (57, 57))], dtype=object)"
      ]
     },
     "execution_count": 74,
     "metadata": {},
     "output_type": "execute_result"
    }
   ],
   "source": [
    "reformed.iloc[0, :].values"
   ]
  },
  {
   "cell_type": "code",
   "execution_count": 75,
   "metadata": {},
   "outputs": [
    {
     "data": {
      "text/plain": [
       "array(['development-1',\n",
       "       \"Zoe Telford -- played the police officer girlfriend of Simon, Maggie. Dumped by Simon in the final episode of series 1, after he slept with Jenny, and is not seen again. Phoebe Thomas played Cheryl Cassidy, Pauline's friend and also a year 11 pupil in Simon's class. Dumped her boyfriend following Simon's advice after he wouldn't have sex with her but later realised this was due to him catching crabs off her friend Pauline.\",\n",
       "       'her', 274, 'Cheryl Cassidy', 191, True, 'Pauline', 207, False,\n",
       "       'http://en.wikipedia.org/wiki/List_of_Teachers_(UK_TV_series)_characters',\n",
       "       (39, 41), (42, 42), (57, 57), ((39, 41), (57, 57))], dtype=object)"
      ]
     },
     "execution_count": 75,
     "metadata": {},
     "output_type": "execute_result"
    }
   ],
   "source": [
    "df.iloc[0, :].values"
   ]
  },
  {
   "cell_type": "code",
   "execution_count": 28,
   "metadata": {},
   "outputs": [],
   "source": [
    "placeholder = 'asdfasdfasf'\n",
    "A_tok_count = len([_ for _ in word_tokenize(A)])\n",
    "_text = [c for c in text]\n",
    "_text[offset:offset+len(A)] = placeholder\n",
    "_text = ''.join(_text)\n",
    "_text = [word for sentence in sent_tokenize(_text) for word in word_tokenize(sentence)]\n",
    "#start = _text.index(placeholder)\n",
    "\n",
    "#[word for sentence in sent_tokenize(text) for word in word_tokenize(sentence)][start:start+A_tok_count]"
   ]
  },
  {
   "cell_type": "code",
   "execution_count": 34,
   "metadata": {},
   "outputs": [],
   "source": [
    "_text = [c for c in text]"
   ]
  },
  {
   "cell_type": "code",
   "execution_count": 38,
   "metadata": {
    "scrolled": true
   },
   "outputs": [
    {
     "data": {
      "text/plain": [
       "['She',\n",
       " 'auditions',\n",
       " 'to',\n",
       " 'be',\n",
       " 'a',\n",
       " 'dancer',\n",
       " 'at',\n",
       " 'Cheung',\n",
       " 'Lai',\n",
       " 'Yuen',\n",
       " 'for',\n",
       " 'a',\n",
       " 'better',\n",
       " 'income',\n",
       " 'and',\n",
       " 'a',\n",
       " 'chance',\n",
       " 'to',\n",
       " 'find',\n",
       " 'her',\n",
       " 'father',\n",
       " ',',\n",
       " 'who',\n",
       " 'is',\n",
       " 'the',\n",
       " 'Emperor',\n",
       " '.',\n",
       " 'Evergreen',\n",
       " 'Mak',\n",
       " 'as',\n",
       " 'Ko',\n",
       " 'Yan',\n",
       " '(',\n",
       " '**',\n",
       " ')',\n",
       " '/',\n",
       " 'Kiu',\n",
       " 'Bo-lung',\n",
       " '(',\n",
       " '***',\n",
       " ')',\n",
       " ',',\n",
       " 'a',\n",
       " 'Music',\n",
       " 'Bureau',\n",
       " 'official',\n",
       " 'who',\n",
       " 'looks',\n",
       " 'over',\n",
       " 'Cheung',\n",
       " 'Lai',\n",
       " 'Yuen',\n",
       " '.',\n",
       " 'In',\n",
       " 'a',\n",
       " 'quarrel',\n",
       " 'with',\n",
       " 'asdfasdfasfasdfasf-but',\n",
       " ',',\n",
       " 'Bo-lung',\n",
       " 'loses',\n",
       " 'his',\n",
       " 'memory',\n",
       " 'and',\n",
       " 'gets',\n",
       " 'half',\n",
       " 'of',\n",
       " 'his',\n",
       " 'face',\n",
       " 'burnt',\n",
       " '.']"
      ]
     },
     "execution_count": 38,
     "metadata": {},
     "output_type": "execute_result"
    }
   ],
   "source": [
    "_text[offset:offset+len(A)] = placeholder\n",
    "[word for sentence in sent_tokenize(''.join(_text)) for word in word_tokenize(sentence)]"
   ]
  },
  {
   "cell_type": "code",
   "execution_count": null,
   "metadata": {},
   "outputs": [],
   "source": []
  }
 ],
 "metadata": {
  "kernelspec": {
   "display_name": "Python 3",
   "language": "python",
   "name": "python3"
  },
  "language_info": {
   "codemirror_mode": {
    "name": "ipython",
    "version": 3
   },
   "file_extension": ".py",
   "mimetype": "text/x-python",
   "name": "python",
   "nbconvert_exporter": "python",
   "pygments_lexer": "ipython3",
   "version": "3.6.5"
  }
 },
 "nbformat": 4,
 "nbformat_minor": 2
}
